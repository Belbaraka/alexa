{
 "cells": [
  {
   "cell_type": "markdown",
   "metadata": {},
   "source": [
    "### ANALYSIS OF THE SPECTROGRAM FOR DIFFERENT AUDIO SIGNALS"
   ]
  },
  {
   "cell_type": "code",
   "execution_count": 36,
   "metadata": {},
   "outputs": [],
   "source": [
    "import numpy as np \n",
    "from scipy.io import wavfile\n",
    "import IPython\n",
    "import matplotlib.pyplot as plt\n",
    "import pyroomacoustics as pra"
   ]
  },
  {
   "cell_type": "markdown",
   "metadata": {},
   "source": [
    "##### Compute the spectrogram of an audio file "
   ]
  },
  {
   "cell_type": "code",
   "execution_count": 62,
   "metadata": {},
   "outputs": [],
   "source": [
    "def compute_spectrogram(fs, signal, low_pass=False):\n",
    "    \n",
    "    #check if we have a stereo signal\n",
    "    if signal.shape[1]>1:\n",
    "        signal = signal[:,0] # take only one signal and drop the other one\n",
    "    \n",
    "    #apply the lowpass filter if needed\n",
    "    if low_pass:\n",
    "        h_len = 50\n",
    "        h = np.ones(h_len)\n",
    "        h /= np.linalg.norm(h)\n",
    "\n",
    "        \n",
    "        # stft paramaters \n",
    "        fft_len = 512 \n",
    "        block_size = fft_len - 50 + 1\n",
    "        hop = block_size // 2\n",
    "        window = pra.hann(block_size, flag='asymmetric', length='full') \n",
    "\n",
    "        stft = pra.realtime.STFT(block_size, hop=hop, analysis_window=window, channels=1)\n",
    "        stft.set_filter(h, zb=h.shape[0] - 1)  \n",
    "        processed_audio = np.zeros(signal.shape)\n",
    "        n = 0\n",
    "        while  signal.shape[0] - n > hop:\n",
    "            stft.analysis(signal[n:n+hop,])\n",
    "            stft.process()  # apply the filter\n",
    "            processed_audio[n:n+hop,] = stft.synthesis()\n",
    "            n += hop\n",
    "            \n",
    "        fig = plt.figure()\n",
    "        fig.set_size_inches(20,8)\n",
    "        plt.subplot(2,1,1)\n",
    "        sig1, _, _, _ = plt.specgram(signal[:n-hop].astype(np.float32), NFFT=256, Fs=fs, vmin=-20, vmax=30) # dBFS scale\n",
    "        plt.title('Original Signal', fontsize=22)\n",
    "        plt.subplot(2,1,2)\n",
    "        sig2, _, _, _ = plt.specgram(processed_audio[hop:n], NFFT=256, Fs=fs, vmin=-20, vmax=30) # dBFS scale\n",
    "        plt.title('Lowpass Filtered Signal', fontsize=22)\n",
    "        return sig1, sig2\n",
    "    else:\n",
    "        fig = plt.figure()\n",
    "        fig.set_size_inches(20,8)\n",
    "        sig, _, _, _ = plt.specgram(signal.astype(np.float32), NFFT=256, Fs=fs, vmin=-20, vmax=30) # dBFS scale\n",
    "        plt.title('Spectrogram', fontsize=22)\n",
    "        return sig\n",
    "    \n",
    "    "
   ]
  },
  {
   "cell_type": "code",
   "execution_count": 132,
   "metadata": {},
   "outputs": [],
   "source": [
    "fs, signal = wavfile.read(\"audio_samples/male1.wav\")"
   ]
  },
  {
   "cell_type": "code",
   "execution_count": null,
   "metadata": {},
   "outputs": [],
   "source": []
  }
 ],
 "metadata": {
  "kernelspec": {
   "display_name": "Python 3",
   "language": "python",
   "name": "python3"
  },
  "language_info": {
   "codemirror_mode": {
    "name": "ipython",
    "version": 3
   },
   "file_extension": ".py",
   "mimetype": "text/x-python",
   "name": "python",
   "nbconvert_exporter": "python",
   "pygments_lexer": "ipython3",
   "version": "3.6.4"
  }
 },
 "nbformat": 4,
 "nbformat_minor": 2
}
