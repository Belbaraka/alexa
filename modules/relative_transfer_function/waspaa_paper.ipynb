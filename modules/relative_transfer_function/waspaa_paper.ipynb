{
 "cells": [
  {
   "cell_type": "markdown",
   "metadata": {},
   "source": [
    "# Relative Transfer Function modeling for supervised source localization"
   ]
  },
  {
   "cell_type": "markdown",
   "metadata": {},
   "source": [
    "In this notebook, we attempt to reproduce the results of the following paper : *[Relative Transfer Function modeling for supervised source localization](https://users.math.yale.edu/rt294/WASPAA_Laufer2013.pdf)*. The authors propose an approach based on **manifold learning** to tackle the limitations related to high reverabaration levels and large number of microphones required when dealing with the sound source localization problem. The proposed algorithm can localize a source in a 3D room using only one pair of microphones and by fixing the distance from the microphones to the source. The algorithm works as follow :"
   ]
  },
  {
   "cell_type": "markdown",
   "metadata": {},
   "source": [
    "*Training stage*\n",
    "\n",
    "* **Define the feature vector of source $i$ as:  $T_{i}$ = $\\displaystyle\\frac{H_{i1}(e^{i\\omega_{r}})}{H_{i2}(e^{i\\omega_{r}})}$, where  $\\omega_{r} =\n",
    "\\frac{2\\pi r}{D} ; r = 0,...,D-1$ denotes a discrete frequency index and the transfer functions are between the source $i$ and the 2 microphones. **\n",
    "\n",
    "* **Compute the affinity matrix W ($m*m$) between the $m$ training samples defined for the selected feature vectors.**\n",
    "\n",
    "* **Let $\\lambda_{j}$ and $\\varphi_{j}$, $j = 0, 1, ..., m-1$  be the eigenvalues and eigenvectors of the affinity matrix W. **\n",
    "\n",
    "*Test stage*\n",
    "\n",
    "* **Given new set of $M$ test positions with unknown locations, construct an asymmetric affinity matrix $A$ between the feature vectors of the entire set (training and test) and the training set**\n",
    "\n",
    "* **Normalize assymetric kernel $A$ as : $N = AS^{-\\frac{1}{2}}$ where $S = diag\\{A^{T}A\\textbf{1}\\} $. **\n",
    "\n",
    "* **Compute the left-singular vectors $\\psi_{j}$ of $N$ as $\\displaystyle\\psi_{j} = \\frac{1}{\\sqrt{\\lambda_{j}}} N \\varphi_{j} $.**\n",
    "\n",
    "* **Reconstruct an embedding of the measurements onto the space spanned by the $d$ left singular vectors in correspondence with the dimensions of the parameter space ($d = 2$ in our case) :<br> $\\displaystyle\\Psi : \\textbf{T}_{i} \\rightarrow [ \\psi_{1}^{i}, \\psi_{2}^{i} ]^{T}$, where $\\psi_{1}^{i}$ denotes the $ith$ entry of $\\psi_{1}$. **\n",
    " \n",
    "* **Estimate the test location parameters as follow : $\\displaystyle\\hat\\theta_{i} = \\sum_{j}\\gamma_{j}(T_{i})\\bar\\theta_{j}$, where $\\gamma_{j}(T_{i})$ are the interpolation coefficients, $T_{i}$ is the test feature vector and  $\\bar\\theta_{j}$ is the known parameter locations (azimuth and elevation angle) of training source $j$**"
   ]
  },
  {
   "cell_type": "code",
   "execution_count": 1,
   "metadata": {},
   "outputs": [],
   "source": [
    "import pyroomacoustics as pra\n",
    "import numpy as np\n",
    "import matplotlib.pyplot as plt\n",
    "import math\n",
    "import scipy\n",
    "from tqdm import tqdm\n",
    "from script_rtf import *"
   ]
  },
  {
   "cell_type": "markdown",
   "metadata": {},
   "source": [
    "**Define some constants**"
   ]
  },
  {
   "cell_type": "markdown",
   "metadata": {},
   "source": [
    "Modifications need to be made also in the script `helpers_rtf.py`"
   ]
  },
  {
   "cell_type": "code",
   "execution_count": 2,
   "metadata": {},
   "outputs": [],
   "source": [
    "fs = 8000 # sampling frequencey\n",
    "m = 50 # number of sources in training stage\n",
    "M = 49 # number of sources in test stage\n",
    "L = 5 # number of perturbations around a given source \n",
    "d = 2 # degrees of freedom (in this case azimuth and elevation angle)\n",
    "epsilon = 1e20 # scaling factor\n",
    "eps_var = 1e-5 # sclaing factor\n",
    "k = 3 # number of neigherest neighbour selected"
   ]
  },
  {
   "cell_type": "markdown",
   "metadata": {},
   "source": [
    "### Training stage"
   ]
  },
  {
   "cell_type": "markdown",
   "metadata": {},
   "source": [
    "**Compute _*affinity matrix*_ $W$ **"
   ]
  },
  {
   "cell_type": "code",
   "execution_count": 3,
   "metadata": {},
   "outputs": [
    {
     "name": "stderr",
     "output_type": "stream",
     "text": [
      "100%|██████████| 50/50 [00:00<00:00, 189.80it/s]\n",
      "100%|██████████| 50/50 [00:21<00:00,  2.36it/s]\n"
     ]
    }
   ],
   "source": [
    "cov_matrices = compute_covMatrices(postions_Of_perturbations, m=m, L=L)\n",
    "W = compute_affinity_matrix(cov_matrices, training_Set_xyz, m=m)\n",
    "eig_vals, eig_vects = np.linalg.eig(W)"
   ]
  },
  {
   "cell_type": "markdown",
   "metadata": {},
   "source": [
    "Remark : *the column `eig_vects[:,i]` is the eigenvector corresponding to the eigenvalue `eig_vals[i]`*"
   ]
  },
  {
   "cell_type": "markdown",
   "metadata": {},
   "source": [
    "### Test stage"
   ]
  },
  {
   "cell_type": "markdown",
   "metadata": {},
   "source": [
    "**Compute affinity matrix $A$ between features vectors in entire set (training +test) and training set**"
   ]
  },
  {
   "cell_type": "code",
   "execution_count": 4,
   "metadata": {},
   "outputs": [],
   "source": [
    "A = W.copy()\n",
    "A = np.c_[A.T, np.zeros((m,M))].T"
   ]
  },
  {
   "cell_type": "code",
   "execution_count": 5,
   "metadata": {},
   "outputs": [
    {
     "name": "stderr",
     "output_type": "stream",
     "text": [
      "100%|██████████| 49/49 [00:15<00:00,  3.18it/s]\n"
     ]
    }
   ],
   "source": [
    "for i in tqdm(range(M)):\n",
    "    for j in range(m):\n",
    "        test_featVect = feature_Vector_testPos(index_src=i)\n",
    "        train_featVect = feature_Vector_src(index_src=j)\n",
    "        inv_cov_mat_j = np.linalg.inv(cov_matrices[j])\n",
    "        \n",
    "        nom = (test_featVect - train_featVect) @ inv_cov_mat_j @ (test_featVect - train_featVect).T\n",
    "        A[i+m,j] = np.exp(-nom/epsilon)"
   ]
  },
  {
   "cell_type": "code",
   "execution_count": 6,
   "metadata": {},
   "outputs": [
    {
     "data": {
      "text/plain": [
       "(99, 50)"
      ]
     },
     "execution_count": 6,
     "metadata": {},
     "output_type": "execute_result"
    }
   ],
   "source": [
    "A.shape"
   ]
  },
  {
   "cell_type": "markdown",
   "metadata": {},
   "source": [
    "**Compute diagonal matrix $S^{-0.5}=diag\\{A^{T}A1\\}^{-0.5}$ and $A^{tilde}$**"
   ]
  },
  {
   "cell_type": "code",
   "execution_count": 7,
   "metadata": {},
   "outputs": [],
   "source": [
    "v = np.matrix(1. /np.sqrt(A.T @ A @ np.ones((m, 1))))\n",
    "S_sqrt = np.diag(v.A1)\n",
    "A_tilde = (A @ S_sqrt) "
   ]
  },
  {
   "cell_type": "markdown",
   "metadata": {},
   "source": [
    "**Compute the left-singular vectors $\\varphi_{j}$ of $A^{tilde}$ as a weighted interpolation of the eigenvectors of $W$**"
   ]
  },
  {
   "cell_type": "code",
   "execution_count": 8,
   "metadata": {},
   "outputs": [],
   "source": [
    "train_featVects = compute_train_featVects(m=m)\n",
    "singular_vects = compute_d_left_sing_vect(m+M, eig_vals, eig_vects, A_tilde, d=d) "
   ]
  },
  {
   "cell_type": "markdown",
   "metadata": {},
   "source": [
    "**Interpolate the test locations**"
   ]
  },
  {
   "cell_type": "code",
   "execution_count": 9,
   "metadata": {},
   "outputs": [],
   "source": [
    "thetas_pred = []\n",
    "thetas_gt = []\n",
    "for i in range(M):\n",
    "    theta_i_pred = estimate_theta_i(i, singular_vects, train_featVects, training_Set_spherical)\n",
    "    thetas_pred.append(theta_i_pred)\n",
    "    theta_i_gt = np.array([test_Set_spherical[i][1], test_Set_spherical[i][2]])\n",
    "    thetas_gt.append(theta_i_gt)"
   ]
  },
  {
   "cell_type": "markdown",
   "metadata": {},
   "source": [
    "**Compute RMSE**"
   ]
  },
  {
   "cell_type": "code",
   "execution_count": 10,
   "metadata": {},
   "outputs": [],
   "source": [
    "rmse_val = rmse(thetas_gt, thetas_pred)"
   ]
  },
  {
   "cell_type": "code",
   "execution_count": 11,
   "metadata": {},
   "outputs": [
    {
     "name": "stdout",
     "output_type": "stream",
     "text": [
      "Re-parameterization of the test set yields a mean error of RMSE = 0.035894932163407646 rad.\n"
     ]
    }
   ],
   "source": [
    "print('Re-parameterization of the test set yields a mean error of RMSE = {rmse} rad.'.format(rmse= rmse_val))"
   ]
  }
 ],
 "metadata": {
  "kernelspec": {
   "display_name": "Python 3",
   "language": "python",
   "name": "python3"
  },
  "language_info": {
   "codemirror_mode": {
    "name": "ipython",
    "version": 3
   },
   "file_extension": ".py",
   "mimetype": "text/x-python",
   "name": "python",
   "nbconvert_exporter": "python",
   "pygments_lexer": "ipython3",
   "version": "3.6.4"
  }
 },
 "nbformat": 4,
 "nbformat_minor": 2
}
