{
 "cells": [
  {
   "cell_type": "markdown",
   "metadata": {},
   "source": [
    "# Relative Transfer Function modeling for supervised source localization"
   ]
  },
  {
   "cell_type": "markdown",
   "metadata": {},
   "source": [
    "A source is located in a reverberant enclosure and its speech is picked up by a microphone pair. The goal of the proposed algorithm is to localize the speaker from the measured microphone signals."
   ]
  },
  {
   "cell_type": "code",
   "execution_count": 232,
   "metadata": {},
   "outputs": [],
   "source": [
    "import pyroomacoustics as pra\n",
    "import numpy as np\n",
    "import matplotlib.pyplot as plt\n",
    "import math\n",
    "import scipy"
   ]
  },
  {
   "cell_type": "markdown",
   "metadata": {},
   "source": [
    "### Training stage"
   ]
  },
  {
   "cell_type": "markdown",
   "metadata": {},
   "source": [
    "**Helper functions (move to script when done)**"
   ]
  },
  {
   "cell_type": "code",
   "execution_count": 190,
   "metadata": {},
   "outputs": [],
   "source": [
    "def cartesian_to_spherical(x, y, z):\n",
    "    r = np.sqrt(x**2 + y**2 + z**2)\n",
    "    theta = np.arccos(z/r)\n",
    "    phi = np.arctan(y/x)\n",
    "    \n",
    "    return r, theta, phi\n",
    "\n",
    "def spherical_to_cartesian(r, theta, phi):\n",
    "    x = r*np.sin(theta)*np.cos(phi)\n",
    "    y = r*np.sin(theta)*np.sin(phi)\n",
    "    z = r*np.cos(theta)\n",
    "\n",
    "    return x, y, z\n",
    "\n",
    "\n",
    "\n",
    "def create_training(mic, m=481, azimuth=[math.pi/16, 2*math.pi/16], elevation=[7*math.pi/16, math.pi/2], radius = 1):\n",
    "    '''\n",
    "    This function generates m training samples located on a sector of a sphere around the first microphone. This sphere has a fixed radius of 1 m\n",
    "    '''\n",
    "    training_Set_xyz = []\n",
    "    training_Set_spherical = []\n",
    "    epsilon = 1e-7\n",
    "    for i in range(m):\n",
    "        azimuth_i = np.random.uniform(low=azimuth[0], high=azimuth[1]+epsilon)\n",
    "        elevation_i = np.random.uniform(low=elevation[0], high=elevation[1]+epsilon)\n",
    "        pos_xyz_i = mic + spherical_to_cartesian(radius, elevation_i, azimuth_i)\n",
    "        training_Set_xyz.append(pos_xyz_i)\n",
    "        training_Set_spherical.append((radius, elevation_i, azimuth_i))\n",
    "    return training_Set_xyz, training_Set_spherical\n",
    "\n",
    "\n",
    "def create_perturbations(training_Set_sph, mic, L=20):\n",
    "    '''\n",
    "    This function generates the L different perturbations around the source position\n",
    "    '''\n",
    "    nb_src = len(training_Set_sph)\n",
    "    postions_Of_perturbations = []\n",
    "    \n",
    "    for src_pos in training_Set_sph:\n",
    "        for i in range(L):\n",
    "            perturbations_i = np.random.randn(2)\n",
    "            pos_xyz_perturb_i = mic + spherical_to_cartesian(src_pos[0], src_pos[1] + perturbations_i[0], src_pos[2] + perturbations_i[1])\n",
    "            postions_Of_perturbations.append(pos_xyz_perturb_i)\n",
    "        \n",
    "    return postions_Of_perturbations\n",
    "\n",
    "\n",
    "\n",
    "def feature_Vector_src(index_src, D=256):\n",
    "    '''\n",
    "    This function creates the feature vector for given source/perturbation position using the microphones in the room\n",
    "    '''\n",
    "    rir0 = room.rir[0][index_src]\n",
    "    rir1 = room.rir[1][index_src]\n",
    "    len0, len1 = rir0.shape[0], rir1.shape[0]\n",
    "\n",
    "    atf_0 = pra.stft(rir0, L=D, hop=len0)\n",
    "    atf_1 = pra.stft(rir1, L=D, hop=len1)\n",
    "    \n",
    "    return atf_0 / atf_1\n",
    "\n",
    "def feature_Vector_perturb(index_perturb, D=256):\n",
    "    '''\n",
    "    This function creates the feature vector for given source/perturbation position using the microphones in the room\n",
    "    '''\n",
    "    rir0 = room_perturb.rir[0][index_perturb]\n",
    "    rir1 = room_perturb.rir[1][index_perturb]\n",
    "    len0, len1 = rir0.shape[0], rir1.shape[0]\n",
    "\n",
    "    atf_0 = pra.stft(rir0, L=D, hop=len0)\n",
    "    atf_1 = pra.stft(rir1, L=D, hop=len1)\n",
    "    \n",
    "    return atf_0 / atf_1\n",
    "\n",
    "\n",
    "def covMatrix_from_perturb(feature_vecs_set, L=20, D=256):\n",
    "    \n",
    "    cov = np.zeros((D,D), dtype='complex128')\n",
    "    for feat_vec in feature_vecs_set:\n",
    "        cov += feat_vec * feat_vec.T\n",
    "    \n",
    "    return cov/L\n",
    "\n",
    "def index_cov_matrix(index_k, index_l, training_positions):\n",
    "    if index_k == index_l:\n",
    "        return index_k\n",
    "    else:\n",
    "        pos_k, pos_l = training_positions[index_k], training_positions[index_l]\n",
    "        pos_middle = 0.5*(pos_k + pos_l)\n",
    "        current_dist_min = np.linalg.norm(pos_middle - pos_k)\n",
    "        index_min = index_k\n",
    "        for i,pos in enumerate(training_positions):\n",
    "            dist = np.linalg.norm(pos_middle - pos)\n",
    "            if dist < current_dist_min:\n",
    "                current_dist_min = dist\n",
    "                index_min = i\n",
    "        return index_min\n",
    "    \n",
    "\n",
    "    \n",
    "def normalizing_factor(index_k, index_l, training_positions, cov_matrices):\n",
    "    index = index_cov_matrix(index_k, index_l, training_positions)\n",
    "    return np.sqrt(np.linalg.det(cov_matrices[index]))\n",
    "\n",
    "\n",
    "def compute_elem_W_kl(index_k, index_l, cov_matrices, epsilon = 1e20):\n",
    "    #How to choose epsilon ?\n",
    "    feature_vec_k, feature_vec_l = feature_Vector_src(index_k), feature_Vector_src(index_l)\n",
    "    inv_cov_sum = np.linalg.inv(cov_matrices[index_k] + cov_matrices[index_l])\n",
    "    \n",
    "    nom = (feature_vec_k - feature_vec_l) @ inv_cov_sum @ (feature_vec_k - feature_vec_l).T\n",
    "    d_kl = 1 # to fix\n",
    "    \n",
    "    return (np.pi/d_kl) * np.exp(-nom/epsilon)\n",
    "\n",
    "\n",
    "def compute_affinity_matrix(cov_matrices, m=481):\n",
    "    W = np.zeros((m, m), dtype='complex128')\n",
    "    for k in range(m):\n",
    "        for l in range(m):\n",
    "            W[k, l] = compute_elem_W_kl(k, l, cov_matrices)\n",
    "            \n",
    "    return W\n",
    "\n",
    "def compute_feature_Vecs_set(src_index, L=20):\n",
    "    '''\n",
    "    This function compute the feature vectors of the perturbations around the source with index `src_index`\n",
    "    '''\n",
    "    feature_vec_set = []\n",
    "    for i,_ in enumerate(postions_Of_perturbations[src_index:L+src_index]):\n",
    "        index_perturb = src_index*L + i\n",
    "        feature_vec_set.append(feature_Vector_perturb(index_perturb))\n",
    "    return feature_vec_set\n",
    "\n",
    "def compute_covMatrices(m=481):\n",
    "    '''\n",
    "    This function computes the covariance matrices of the sources in the training set\n",
    "    '''\n",
    "    cov_matrices = []\n",
    "    for src_index in range(m):\n",
    "        feature_vecs_set = compute_feature_Vecs_set(src_index)\n",
    "        cov_matrices.append(covMatrix_from_perturb(feature_vecs_set))\n",
    "    \n",
    "    return cov_matrices"
   ]
  },
  {
   "cell_type": "markdown",
   "metadata": {},
   "source": [
    "**Define some constants**"
   ]
  },
  {
   "cell_type": "code",
   "execution_count": 322,
   "metadata": {},
   "outputs": [],
   "source": [
    "fs = 8000 # sampling frequencey\n",
    "m = 481 # number of sources in training stage\n",
    "M = 480 # number of sources in test stage\n",
    "L = 20 # number of perturbations around a given source "
   ]
  },
  {
   "cell_type": "markdown",
   "metadata": {},
   "source": [
    "**Create sources positions and their respective perturbated positions**"
   ]
  },
  {
   "cell_type": "code",
   "execution_count": 208,
   "metadata": {},
   "outputs": [],
   "source": [
    "# Add 2 microphones\n",
    "mics = np.array([[3, 1, 1], [3.2, 1, 1]])\n",
    "mic_array = pra.MicrophoneArray(mics.T, fs)\n",
    "mic0_pos = mic_array.R[:,0]\n",
    "mic1_pos = mic_array.R[:,1]\n",
    "\n",
    "training_Set_xyz, training_Set_spherical = create_training(mic0_pos)\n",
    "postions_Of_perturbations = create_perturbations(training_Set_spherical, mic0_pos)"
   ]
  },
  {
   "cell_type": "markdown",
   "metadata": {},
   "source": [
    "**Create room where training sources are added**"
   ]
  },
  {
   "cell_type": "code",
   "execution_count": 249,
   "metadata": {},
   "outputs": [],
   "source": [
    "# Create a 6.5 by 3.5  by 2 metres shoe box room\n",
    "room = pra.ShoeBox([6.5, 3.5, 2], fs=fs, max_order=3)\n",
    "\n",
    "room.add_microphone_array(mic_array)\n",
    "\n",
    "# Add wgn of 3 seconds duration \n",
    "duration_samples = 3*int(fs) \n",
    "\n",
    "for pos in training_Set_xyz:\n",
    "    source_signal = np.random.randn(duration_samples)\n",
    "    room.add_source(pos, signal=source_signal)\n",
    "\n",
    "room.image_source_model(use_libroom=False)\n",
    "room.compute_rir()"
   ]
  },
  {
   "cell_type": "markdown",
   "metadata": {},
   "source": [
    "**Create room where perturbations are added**"
   ]
  },
  {
   "cell_type": "code",
   "execution_count": 159,
   "metadata": {},
   "outputs": [],
   "source": [
    "# Create the exact same room, where we wil add only the perturbed postions \n",
    "room_perturb = pra.ShoeBox([6.5, 3.5, 2], fs=fs, max_order=3)\n",
    "room_perturb.add_microphone_array(mic_array)\n",
    "\n",
    "# Add wgn of 3 seconds duration \n",
    "duration_samples = 3*int(fs) \n",
    "\n",
    "for pos in postions_Of_perturbations:\n",
    "    source_signal = np.random.randn(duration_samples)\n",
    "    room_perturb.add_source(pos, signal=source_signal)\n",
    "    \n",
    "room_perturb.image_source_model(use_libroom=False)\n",
    "room_perturb.compute_rir()"
   ]
  },
  {
   "cell_type": "markdown",
   "metadata": {},
   "source": [
    "**Visualize setup**"
   ]
  },
  {
   "cell_type": "code",
   "execution_count": 113,
   "metadata": {},
   "outputs": [
    {
     "data": {
      "image/png": "[encoded data removed]",
      "text/plain": [
       "<matplotlib.figure.Figure at 0x1c24980a58>"
      ]
     },
     "metadata": {},
     "output_type": "display_data"
    }
   ],
   "source": [
    "fig, ax = room.plot()\n",
    "ax.set_xlim([0, 7])\n",
    "ax.set_ylim([0, 4])\n",
    "ax.set_zlim([0, 2.5]);"
   ]
  },
  {
   "cell_type": "markdown",
   "metadata": {},
   "source": [
    "**Compute _*affinity matrix*_ W **"
   ]
  },
  {
   "cell_type": "code",
   "execution_count": 320,
   "metadata": {},
   "outputs": [],
   "source": [
    "cov_matrices = compute_covMatrices()\n",
    "W = compute_affinity_matrix(cov_matrices)\n",
    "eig_vals, eig_vects = np.linalg.eig(W)"
   ]
  },
  {
   "cell_type": "markdown",
   "metadata": {},
   "source": [
    "Remark : *the column `eig_vects[:,i]` is the eigenvector corresponding to the eigenvalue `eig_vals[i]`*"
   ]
  },
  {
   "cell_type": "markdown",
   "metadata": {},
   "source": [
    "### Test stage"
   ]
  },
  {
   "cell_type": "markdown",
   "metadata": {},
   "source": [
    "**Create room where test source positions are added**"
   ]
  },
  {
   "cell_type": "code",
   "execution_count": null,
   "metadata": {},
   "outputs": [],
   "source": [
    "# Create the exact same room, where we wil add only the test positions \n",
    "room_test = pra.ShoeBox([6.5, 3.5, 2], fs=fs, max_order=3)\n",
    "room_test.add_microphone_array(mic_array)\n",
    "\n",
    "# Add wgn of 3 seconds duration \n",
    "duration_samples = 3*int(fs) \n",
    "\n",
    "eig_vals, eig_vects = np.linalg.eig(W)\n",
    "\n",
    "for pos in 'postions_Of_perturbations':\n",
    "    source_signal = np.random.randn(duration_samples)\n",
    "    room_test.add_source(pos, signal=source_signal)\n",
    "    \n",
    "room_test.image_source_model(use_libroom=False)\n",
    "room_test.compute_rir()"
   ]
  }
 ],
 "metadata": {
  "kernelspec": {
   "display_name": "Python 3",
   "language": "python",
   "name": "python3"
  },
  "language_info": {
   "codemirror_mode": {
    "name": "ipython",
    "version": 3
   },
   "file_extension": ".py",
   "mimetype": "text/x-python",
   "name": "python",
   "nbconvert_exporter": "python",
   "pygments_lexer": "ipython3",
   "version": "3.6.4"
  }
 },
 "nbformat": 4,
 "nbformat_minor": 2
}
