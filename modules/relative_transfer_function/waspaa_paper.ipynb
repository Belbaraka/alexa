{
 "cells": [
  {
   "cell_type": "markdown",
   "metadata": {},
   "source": [
    "# Relative Transfer Function modeling for supervised source localization"
   ]
  },
  {
   "cell_type": "markdown",
   "metadata": {},
   "source": [
    "In this notebook, we attempt to reproduce the results of the following paper : *[Relative Transfer Function modeling for supervised source localization](https://users.math.yale.edu/rt294/WASPAA_Laufer2013.pdf)*. The authors propose an approach based on **manifold learning** to tackle the limitations related to high reverabaration levels and large number of microphones required when dealing with the sound source localization problem. The proposed algorithm can localize a source in a 3D room using only one pair of microphones and by fixing the distance from the microphones to the source. The algorithm works as follow :"
   ]
  },
  {
   "cell_type": "markdown",
   "metadata": {},
   "source": [
    "*Training stage*\n",
    "\n",
    "* **Define the feature vector of source $i$ as:  $T_{i}$ = $\\displaystyle\\frac{H_{i1}(e^{i\\omega_{r}})}{H_{i2}(e^{i\\omega_{r}})}$, where  $\\omega_{r} =\n",
    "\\frac{2\\pi r}{D} ; r = 0,...,D-1$ denotes a discrete frequency index and the tranfser functions are between the source $i$ and the 2 microphones. **\n",
    "\n",
    "* **Compute the affinity matrix W ($m*m$) between the $m$ training samples defined for the selected feature vectors.**\n",
    "\n",
    "* **Let $\\lambda_{j}$ and $\\varphi_{j}$, $j = 0, 1, ..., m-1$  be the eigenvalues and eigenvectors of the affinity matrix W. **\n",
    "\n",
    "*Test stage*\n",
    "\n",
    "* **Given new set of $M$ test positions with unknown locations, construct an asymmetric affinity matrix $A$ between the feature vectors of the entire set (training and test) and the training set**\n",
    "\n",
    "* **Normalize assymetric kernel $A$ as : $N = AS^{-\\frac{1}{2}}$ where $S = diag\\{A^{T}A\\textbf{1}\\} $. **\n",
    "\n",
    "* **Compute the left-singular vectors $\\psi_{j}$ of $N$ as $\\displaystyle\\psi_{j} = \\frac{1}{\\sqrt{\\lambda_{j}}} N \\varphi_{j} $.**\n",
    "\n",
    "* **Reconstruct an embedding of the measurements onto the space spanned by the $d$ left singular vectors in correspondence with the dimensions of the parameter space ($d = 2$ in our case) :<br> $\\displaystyle\\Psi : \\textbf{T}_{i} \\rightarrow [ \\psi_{1}^{i}, \\psi_{2}^{i} ]^{T}$, where $\\psi_{1}^{i}$ denotes the $ith$ entry of $\\psi_{1}$. **\n",
    " \n",
    "* **Estimate the test location parameters as follow : $\\displaystyle\\hat\\theta_{i} = \\sum_{j}\\gamma_{j}(T_{i})\\bar\\theta_{j}$, where $\\gamma_{j}(T_{i})$ are the interpolation coefficients, $T_{i}$ is the test feature vector and  $\\bar\\theta_{j}$ is the known parameter locations (azimuth and elevation angle) of training source $j$**"
   ]
  },
  {
   "cell_type": "code",
   "execution_count": 2,
   "metadata": {},
   "outputs": [],
   "source": [
    "import pyroomacoustics as pra\n",
    "import numpy as np\n",
    "import matplotlib.pyplot as plt\n",
    "import math\n",
    "import scipy\n",
    "from tqdm import tqdm"
   ]
  },
  {
   "cell_type": "markdown",
   "metadata": {},
   "source": [
    "**Define some constants**"
   ]
  },
  {
   "cell_type": "markdown",
   "metadata": {},
   "source": [
    "Modifications need to be made also in the script `helpers_rtf.py`"
   ]
  },
  {
   "cell_type": "code",
   "execution_count": 3,
   "metadata": {},
   "outputs": [],
   "source": [
    "fs = 8000 # sampling frequencey\n",
    "m = 50 # number of sources in training stage\n",
    "M = 49 # number of sources in test stage\n",
    "L = 5 # number of perturbations around a given source \n",
    "d = 2 # degrees of freedom (in this case azimuth and elevation angle)\n",
    "epsilon = 1e20 # scaling factor\n",
    "eps_var = 1e-5 # sclaing factor\n",
    "k = 3 # number of neigherest neighbour selected"
   ]
  },
  {
   "cell_type": "markdown",
   "metadata": {},
   "source": [
    "**Helper functions**"
   ]
  },
  {
   "cell_type": "code",
   "execution_count": 4,
   "metadata": {},
   "outputs": [],
   "source": [
    "def cartesian_to_spherical(x, y, z):\n",
    "    r = np.sqrt(x**2 + y**2 + z**2)\n",
    "    theta = np.arccos(z/r)\n",
    "    phi = np.arctan(y/x)\n",
    "    \n",
    "    return r, theta, phi\n",
    "\n",
    "def spherical_to_cartesian(r, theta, phi):\n",
    "    x = r*np.sin(theta)*np.cos(phi)\n",
    "    y = r*np.sin(theta)*np.sin(phi)\n",
    "    z = r*np.cos(theta)\n",
    "\n",
    "    return x, y, z\n",
    "\n",
    "\n",
    "def create_training(mic, m=481, azimuth=[math.pi/16, 2*math.pi/16], elevation=[7*math.pi/16, math.pi/2], radius = 1):\n",
    "    '''\n",
    "    This function generates m training samples located on a sector of a sphere around the first microphone. This sphere has a fixed radius of 1 m\n",
    "    '''\n",
    "    training_Set_xyz = []\n",
    "    training_Set_spherical = []\n",
    "    epsilon = 1e-7\n",
    "    for i in range(m):\n",
    "        azimuth_i = np.random.uniform(low=azimuth[0], high=azimuth[1]+epsilon)\n",
    "        elevation_i = np.random.uniform(low=elevation[0], high=elevation[1]+epsilon)\n",
    "        pos_xyz_i = mic + spherical_to_cartesian(radius, elevation_i, azimuth_i)\n",
    "        training_Set_xyz.append(pos_xyz_i)\n",
    "        training_Set_spherical.append((radius, elevation_i, azimuth_i))\n",
    "    return training_Set_xyz, training_Set_spherical\n",
    "\n",
    "\n",
    "def create_perturbations(training_Set_sph, mic, L=20):\n",
    "    '''\n",
    "    This function generates the L different perturbations around the source position\n",
    "    '''\n",
    "    nb_src = len(training_Set_sph)\n",
    "    postions_Of_perturbations = []\n",
    "    \n",
    "    for src_pos in training_Set_sph:\n",
    "        for i in range(L):\n",
    "            perturbations_i = np.random.randn(2)\n",
    "            pos_xyz_perturb_i = mic + spherical_to_cartesian(src_pos[0], src_pos[1] + perturbations_i[0], src_pos[2] + perturbations_i[1])\n",
    "            postions_Of_perturbations.append(pos_xyz_perturb_i)\n",
    "        \n",
    "    return postions_Of_perturbations\n",
    "\n",
    "\n",
    "\n",
    "def feature_Vector_src(index_src, D=256):\n",
    "    '''\n",
    "    This function creates the feature vector for given source/perturbation position using the microphones in the room\n",
    "    '''\n",
    "    \n",
    "    overlap = 1\n",
    "    rir0 = room.rir[0][index_src]\n",
    "    rir1 = room.rir[1][index_src]\n",
    "    len0, len1 = rir0.shape[0], rir1.shape[0]\n",
    "\n",
    "    atf_0 = pra.stft(rir0, L=D, hop=int(len0 * overlap), win=pra.windows.hann(N=256))\n",
    "    atf_1 = pra.stft(rir1, L=D, hop=int(len1 * overlap), win=pra.windows.hann(N=256))\n",
    "    \n",
    "    return atf_0 / atf_1\n",
    "\n",
    "def feature_Vector_perturb(index_perturb, D=256):\n",
    "    '''\n",
    "    This function creates the feature vector for given source/perturbation position using the microphones in the room\n",
    "    '''\n",
    "    \n",
    "    overlap = 1\n",
    "    rir0 = room_perturb.rir[0][index_perturb]\n",
    "    rir1 = room_perturb.rir[1][index_perturb]\n",
    "    len0, len1 = rir0.shape[0], rir1.shape[0]\n",
    "\n",
    "    atf_0 = pra.stft(rir0, L=D, hop=int(len0 * overlap), win=pra.windows.hann(N=256))\n",
    "    atf_1 = pra.stft(rir1, L=D, hop=int(len1 * overlap), win=pra.windows.hann(N=256))\n",
    "    \n",
    "    return atf_0 / atf_1\n",
    "\n",
    "\n",
    "def feature_Vector_testPos(index_src, D=256):\n",
    "    '''\n",
    "    This function creates the feature vector for given test position using the microphones in the room\n",
    "    '''\n",
    "    \n",
    "    overlap = 1\n",
    "    rir0 = room_test.rir[0][index_src]\n",
    "    rir1 = room_test.rir[1][index_src]\n",
    "    len0, len1 = rir0.shape[0], rir1.shape[0]\n",
    "\n",
    "    atf_0 = pra.stft(rir0, L=D, hop=int(len0 * overlap), win=pra.windows.hann(N=256))\n",
    "    atf_1 = pra.stft(rir1, L=D, hop=int(len1 * overlap), win=pra.windows.hann(N=256))\n",
    "    \n",
    "    return atf_0 / atf_1\n",
    "\n",
    "\n",
    "def covMatrix_from_perturb(feature_vecs_set, L=20, D=256):\n",
    "    \n",
    "    cov = np.zeros((D,D), dtype='complex128')\n",
    "    for feat_vec in feature_vecs_set:\n",
    "        cov += feat_vec * feat_vec.T\n",
    "    \n",
    "    return cov/L\n",
    "\n",
    "\n",
    "def index_cov_matrix(index_k, index_l, training_positions):\n",
    "    if index_k == index_l:\n",
    "        return index_k\n",
    "    else:\n",
    "        pos_k, pos_l = training_positions[index_k], training_positions[index_l]\n",
    "        pos_middle = 0.5*(pos_k + pos_l)\n",
    "        current_dist_min = np.linalg.norm(pos_middle - pos_k)\n",
    "        index_min = index_k\n",
    "        for i,pos in enumerate(training_positions):\n",
    "            dist = np.linalg.norm(pos_middle - pos)\n",
    "            if dist < current_dist_min:\n",
    "                current_dist_min = dist\n",
    "                index_min = i\n",
    "        return index_min\n",
    "    \n",
    "\n",
    "    \n",
    "def normalizing_factor(index_k, index_l, training_positions, cov_matrices):\n",
    "    index = index_cov_matrix(index_k, index_l, training_positions)\n",
    "    return np.sqrt(np.linalg.det(cov_matrices[index]))\n",
    "\n",
    "\n",
    "def compute_elem_W_kl(index_k, index_l, cov_matrices, training_positions, epsilon = epsilon):\n",
    "    #How to choose epsilon ?\n",
    "    feature_vec_k, feature_vec_l = feature_Vector_src(index_k), feature_Vector_src(index_l)\n",
    "    inv_cov_sum = np.linalg.inv(cov_matrices[index_k] + cov_matrices[index_l])\n",
    "    \n",
    "    nom = (feature_vec_k - feature_vec_l) @ inv_cov_sum @ (feature_vec_k - feature_vec_l).T\n",
    "    #d_kl = normalizing_factor(index_k, index_l, training_positions, cov_matrices)\n",
    "    #print((np.pi/d_kl) * np.exp(-nom/epsilon))\n",
    "    d_kl = 1\n",
    "    return (np.pi/d_kl) * np.exp(-nom/epsilon)\n",
    "\n",
    "\n",
    "def compute_affinity_matrix(cov_matrices, training_positions, m=m):\n",
    "    W = np.zeros((m, m), dtype='complex128')\n",
    "    for k in tqdm(range(m)):\n",
    "        for l in range(m):\n",
    "            W[k, l] = compute_elem_W_kl(k, l, cov_matrices, training_positions)\n",
    "            \n",
    "    return W\n",
    "\n",
    "def compute_feature_Vecs_set(src_index, L=L):\n",
    "    '''\n",
    "    This function compute the feature vectors of the perturbations around the source with index `src_index`\n",
    "    '''\n",
    "    feature_vec_set = []\n",
    "    for i,_ in enumerate(postions_Of_perturbations[src_index:L+src_index]):\n",
    "        index_perturb = src_index*L + i\n",
    "        feature_vec_set.append(feature_Vector_perturb(index_perturb))\n",
    "    return feature_vec_set\n",
    "\n",
    "def compute_covMatrices(m=m, L=L):\n",
    "    '''\n",
    "    This function computes the covariance matrices of the sources in the training set\n",
    "    '''\n",
    "    cov_matrices = []\n",
    "    for src_index in tqdm(range(m)):\n",
    "        feature_vecs_set = compute_feature_Vecs_set(src_index, L=L)\n",
    "        cov_matrices.append(covMatrix_from_perturb(feature_vecs_set))\n",
    "    \n",
    "    return cov_matrices\n",
    "\n",
    "\n",
    "\n",
    "\n",
    "\n",
    "def left_singular_vect(index_j, eig_val_j, eig_vect_j, A_tilde):\n",
    "    return ((1/np.sqrt(eig_val_j))*A_tilde) @ eig_vect_j\n",
    "\n",
    "def compute_d_left_sing_vect(len_, eig_vals, eig_vects, A_tilde, d=d):\n",
    "    '''\n",
    "    This function computes the lefts singular vectors of A_tilde as the weighted interpolation of the \n",
    "    eigenvectors of W\n",
    "    '''\n",
    "    singular_vects = np.zeros((len_, d), dtype='complex128')\n",
    "    for i in range(d):\n",
    "        singular_vects[:, i] = left_singular_vect(i, eig_vals[i], eig_vects[i], A_tilde)\n",
    "        \n",
    "    return singular_vects\n",
    "\n",
    "def get_embedding(index_feat_vect, singular_vects):\n",
    "    '''\n",
    "    This function reconstructs an embedding of the measurements onto the space spanned by the d left singular vectors\n",
    "    '''\n",
    "    return singular_vects[index_feat_vect, :]\n",
    "\n",
    "\n",
    "def interpolation_coef(index_j, index_test_pos, singular_vects, train_featVects, indices_knn, eps_var=eps_var):\n",
    "    '''\n",
    "    This function comptes the interpolation coefficient used to estimate the test positions\n",
    "    '''\n",
    "    embedding_T_i = singular_vects[m + index_test_pos, :]\n",
    "    embedding_T_j = singular_vects[index_j, :]\n",
    "    \n",
    "    num = np.exp(-np.linalg.norm(embedding_T_i - embedding_T_j)**2/eps_var)\n",
    "    \n",
    "    denum = 0\n",
    "    for s in indices_knn:\n",
    "        embedding_T_s = singular_vects[s, :]\n",
    "        denum += np.exp(-np.linalg.norm(embedding_T_i - embedding_T_s)**2/eps_var)\n",
    "    return num / denum\n",
    "\n",
    "\n",
    "def estimate_theta_i(index_test_pos, singular_vects, train_featVects, training_Set_spherical, eps_var=eps_var):\n",
    "    '''\n",
    "    This function estimates the test position\n",
    "    '''\n",
    "    theta_i = np.zeros((2,))\n",
    "    indices_knn = k_nearest_featVect(feature_Vector_testPos(index_src=index_test_pos), train_featVects, k=k)\n",
    "    for j in indices_knn:\n",
    "        theta_j = np.array([training_Set_spherical[j][1], training_Set_spherical[j][2]])\n",
    "        theta_i += theta_j * interpolation_coef(j, index_test_pos, singular_vects, train_featVects, indices_knn, eps_var)\n",
    "        \n",
    "    return theta_i\n",
    "\n",
    "def compute_train_featVects(m=m):\n",
    "    train_featVects = []\n",
    "    for i in range(m):\n",
    "        train_featVect = feature_Vector_src(index_src=i)\n",
    "        train_featVects.append(train_featVect)\n",
    "    return train_featVects\n",
    "\n",
    "\n",
    "def k_nearest_featVect(test_featVect, train_featVects, k=k):\n",
    "    \n",
    "    m = len(train_featVects)\n",
    "    distances = []\n",
    "    for i in range(m):\n",
    "        dist = np.linalg.norm(test_featVect - train_featVects[i])\n",
    "        distances.append(-dist)\n",
    "\n",
    "    return np.array(distances).argsort()[-k:][::-1]\n",
    "\n",
    "def estimation_error(theta_gt, theta_pred):\n",
    "    num = np.linalg.norm(theta_gt - theta_pred)\n",
    "    denum = np.linalg.norm(theta_gt)\n",
    "    return num / denum\n",
    "\n",
    "def rmse(thetas_gt, theta_pred):\n",
    "    M = len(thetas_gt)\n",
    "    rmse = 0\n",
    "    for i in range(M):\n",
    "        rmse += estimation_error(thetas_gt[i], thetas_pred[i])**2\n",
    "    \n",
    "    rmse = np.sqrt(rmse/M)\n",
    "    return rmse"
   ]
  },
  {
   "cell_type": "markdown",
   "metadata": {},
   "source": [
    "### Training stage"
   ]
  },
  {
   "cell_type": "markdown",
   "metadata": {},
   "source": [
    "**Create sources positions and their respective perturbated positions**"
   ]
  },
  {
   "cell_type": "code",
   "execution_count": 5,
   "metadata": {},
   "outputs": [],
   "source": [
    "# Add 2 microphones\n",
    "mics = np.array([[3, 1, 1], [3.2, 1, 1]])\n",
    "mic_array = pra.MicrophoneArray(mics.T, fs)\n",
    "mic0_pos = mic_array.R[:,0]\n",
    "mic1_pos = mic_array.R[:,1]\n",
    "\n",
    "training_Set_xyz, training_Set_spherical = create_training(mic0_pos, m=m)\n",
    "postions_Of_perturbations = create_perturbations(training_Set_spherical, mic0_pos, L=L)"
   ]
  },
  {
   "cell_type": "markdown",
   "metadata": {},
   "source": [
    "**Create room where training sources are added**"
   ]
  },
  {
   "cell_type": "code",
   "execution_count": 6,
   "metadata": {},
   "outputs": [],
   "source": [
    "# Create a 6.5 by 3.5  by 2 metres shoe box room\n",
    "room = pra.ShoeBox([6.5, 3.5, 2], fs=fs, max_order=3)\n",
    "\n",
    "room.add_microphone_array(mic_array)\n",
    "\n",
    "# Add wgn of 3 seconds duration \n",
    "duration_samples = 3*int(fs) \n",
    "\n",
    "for pos in training_Set_xyz:\n",
    "    source_signal = np.random.randn(duration_samples)\n",
    "    room.add_source(pos, signal=source_signal)\n",
    "\n",
    "room.image_source_model(use_libroom=False)\n",
    "room.compute_rir()"
   ]
  },
  {
   "cell_type": "markdown",
   "metadata": {},
   "source": [
    "**Create room where perturbations are added**"
   ]
  },
  {
   "cell_type": "code",
   "execution_count": 7,
   "metadata": {},
   "outputs": [],
   "source": [
    "# Create the exact same room, where we wil add only the perturbed postions \n",
    "room_perturb = pra.ShoeBox([6.5, 3.5, 2], fs=fs, max_order=3)\n",
    "room_perturb.add_microphone_array(mic_array)\n",
    "\n",
    "# Add wgn of 3 seconds duration \n",
    "duration_samples = 3*int(fs) \n",
    "\n",
    "for pos in postions_Of_perturbations:\n",
    "    source_signal = np.random.randn(duration_samples)\n",
    "    room_perturb.add_source(pos, signal=source_signal)\n",
    "    \n",
    "room_perturb.image_source_model(use_libroom=False)\n",
    "room_perturb.compute_rir()"
   ]
  },
  {
   "cell_type": "markdown",
   "metadata": {},
   "source": [
    "**Visualize setup**"
   ]
  },
  {
   "cell_type": "code",
   "execution_count": 8,
   "metadata": {},
   "outputs": [
    {
     "data": {
      "image/png": "[encoded data removed]",
      "text/plain": [
       "<matplotlib.figure.Figure at 0x112b6ee10>"
      ]
     },
     "metadata": {},
     "output_type": "display_data"
    }
   ],
   "source": [
    "fig, ax = room.plot(img_order=0)\n",
    "ax.set_xlim([0, 7])\n",
    "ax.set_ylim([0, 4])\n",
    "ax.set_zlim([0, 2.5]);"
   ]
  },
  {
   "cell_type": "markdown",
   "metadata": {},
   "source": [
    "**Compute _*affinity matrix*_ $W$ **"
   ]
  },
  {
   "cell_type": "code",
   "execution_count": 9,
   "metadata": {},
   "outputs": [
    {
     "name": "stderr",
     "output_type": "stream",
     "text": [
      "100%|██████████| 50/50 [00:00<00:00, 219.06it/s]\n",
      "100%|██████████| 50/50 [00:18<00:00,  2.70it/s]\n"
     ]
    }
   ],
   "source": [
    "cov_matrices = compute_covMatrices(m=m, L=L)\n",
    "W = compute_affinity_matrix(cov_matrices, training_Set_xyz, m=m)\n",
    "eig_vals, eig_vects = np.linalg.eig(W)"
   ]
  },
  {
   "cell_type": "markdown",
   "metadata": {},
   "source": [
    "Remark : *the column `eig_vects[:,i]` is the eigenvector corresponding to the eigenvalue `eig_vals[i]`*"
   ]
  },
  {
   "cell_type": "markdown",
   "metadata": {},
   "source": [
    "### Test stage"
   ]
  },
  {
   "cell_type": "markdown",
   "metadata": {},
   "source": [
    "**Create room where test source positions are added**"
   ]
  },
  {
   "cell_type": "code",
   "execution_count": 10,
   "metadata": {},
   "outputs": [],
   "source": [
    "test_Set_xyz, test_Set_spherical = create_training(mic0_pos, m=M)"
   ]
  },
  {
   "cell_type": "code",
   "execution_count": 11,
   "metadata": {},
   "outputs": [],
   "source": [
    "# Create the exact same room, where we wil add only the test positions \n",
    "room_test = pra.ShoeBox([6.5, 3.5, 2], fs=fs, max_order=3)\n",
    "room_test.add_microphone_array(mic_array)\n",
    "\n",
    "# Add wgn of 3 seconds duration \n",
    "duration_samples = 3*int(fs) \n",
    "\n",
    "for pos in test_Set_xyz:\n",
    "    source_signal = np.random.randn(duration_samples)\n",
    "    room_test.add_source(pos, signal=source_signal)\n",
    "    \n",
    "room_test.image_source_model(use_libroom=False)\n",
    "room_test.compute_rir()"
   ]
  },
  {
   "cell_type": "markdown",
   "metadata": {},
   "source": [
    "**Compute affinity matrix $A$ between features vectors in entire set (training +test) and training set**"
   ]
  },
  {
   "cell_type": "code",
   "execution_count": 12,
   "metadata": {},
   "outputs": [],
   "source": [
    "A = W.copy()\n",
    "A = np.c_[A.T, np.zeros((m,M))].T"
   ]
  },
  {
   "cell_type": "code",
   "execution_count": 13,
   "metadata": {},
   "outputs": [
    {
     "name": "stderr",
     "output_type": "stream",
     "text": [
      "100%|██████████| 49/49 [00:26<00:00,  1.87it/s]\n"
     ]
    }
   ],
   "source": [
    "for i in tqdm(range(M)):\n",
    "    for j in range(m):\n",
    "        test_featVect = feature_Vector_testPos(index_src=i)\n",
    "        train_featVect = feature_Vector_src(index_src=j)\n",
    "        inv_cov_mat_j = np.linalg.inv(cov_matrices[j])\n",
    "        \n",
    "        nom = (test_featVect - train_featVect) @ inv_cov_mat_j @ (test_featVect - train_featVect).T\n",
    "        A[i+m,j] = np.exp(-nom/epsilon)"
   ]
  },
  {
   "cell_type": "code",
   "execution_count": 14,
   "metadata": {},
   "outputs": [
    {
     "data": {
      "text/plain": [
       "(99, 50)"
      ]
     },
     "execution_count": 14,
     "metadata": {},
     "output_type": "execute_result"
    }
   ],
   "source": [
    "A.shape"
   ]
  },
  {
   "cell_type": "markdown",
   "metadata": {},
   "source": [
    "**Compute diagonal matrix $S^{-0.5}=diag\\{A^{T}A1\\}^{-0.5}$ and $A^{tilde}$**"
   ]
  },
  {
   "cell_type": "code",
   "execution_count": 15,
   "metadata": {},
   "outputs": [],
   "source": [
    "v = np.matrix(1. /np.sqrt(A.T @ A @ np.ones((m, 1))))\n",
    "S_sqrt = np.diag(v.A1)\n",
    "A_tilde = (A @ S_sqrt) "
   ]
  },
  {
   "cell_type": "markdown",
   "metadata": {},
   "source": [
    "**Compute the left-singular vectors $\\varphi_{j}$ of $A^{tilde}$ as a weighted interpolation of the eigenvectors of $W$**"
   ]
  },
  {
   "cell_type": "code",
   "execution_count": 16,
   "metadata": {},
   "outputs": [],
   "source": [
    "train_featVects = compute_train_featVects(m=m)\n",
    "singular_vects = compute_d_left_sing_vect(m+M, eig_vals, eig_vects, A_tilde, d=d) "
   ]
  },
  {
   "cell_type": "markdown",
   "metadata": {},
   "source": [
    "**Interpolate the test locations**"
   ]
  },
  {
   "cell_type": "code",
   "execution_count": 17,
   "metadata": {},
   "outputs": [],
   "source": [
    "thetas_pred = []\n",
    "thetas_gt = []\n",
    "for i in range(M):\n",
    "    theta_i_pred = estimate_theta_i(i, singular_vects, train_featVects, training_Set_spherical)\n",
    "    thetas_pred.append(theta_i_pred)\n",
    "    theta_i_gt = np.array([test_Set_spherical[i][1], test_Set_spherical[i][2]])\n",
    "    thetas_gt.append(theta_i_gt)"
   ]
  },
  {
   "cell_type": "markdown",
   "metadata": {},
   "source": [
    "**Compute RMSE**"
   ]
  },
  {
   "cell_type": "code",
   "execution_count": 18,
   "metadata": {},
   "outputs": [],
   "source": [
    "rmse_val = rmse(thetas_gt, thetas_pred)"
   ]
  },
  {
   "cell_type": "code",
   "execution_count": 19,
   "metadata": {},
   "outputs": [
    {
     "name": "stdout",
     "output_type": "stream",
     "text": [
      "Re-parameterization of the test set yields a mean error of RMSE = 0.03205408776200825 rad.\n"
     ]
    }
   ],
   "source": [
    "print('Re-parameterization of the test set yields a mean error of RMSE = {rmse} rad.'.format(rmse= rmse_val))"
   ]
  },
  {
   "cell_type": "code",
   "execution_count": null,
   "metadata": {},
   "outputs": [],
   "source": []
  }
 ],
 "metadata": {
  "kernelspec": {
   "display_name": "Python 3",
   "language": "python",
   "name": "python3"
  },
  "language_info": {
   "codemirror_mode": {
    "name": "ipython",
    "version": 3
   },
   "file_extension": ".py",
   "mimetype": "text/x-python",
   "name": "python",
   "nbconvert_exporter": "python",
   "pygments_lexer": "ipython3",
   "version": "3.6.4"
  }
 },
 "nbformat": 4,
 "nbformat_minor": 2
}
